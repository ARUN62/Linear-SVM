{
  "nbformat": 4,
  "nbformat_minor": 5,
  "metadata": {
    "colab": {
      "name": "MIT2020116_Lab Assignment 6_Q1.ipynb",
      "provenance": []
    },
    "kernelspec": {
      "display_name": "Python 3",
      "language": "python",
      "name": "python3"
    },
    "language_info": {
      "codemirror_mode": {
        "name": "ipython",
        "version": 3
      },
      "file_extension": ".py",
      "mimetype": "text/x-python",
      "name": "python",
      "nbconvert_exporter": "python",
      "pygments_lexer": "ipython3",
      "version": "3.8.5"
    }
  },
  "cells": [
    {
      "cell_type": "code",
      "metadata": {
        "id": "meaningful-yellow"
      },
      "source": [
        "import pandas as pd\n",
        "import numpy as np\n",
        "import matplotlib.pyplot as plt\n",
        "import os"
      ],
      "id": "meaningful-yellow",
      "execution_count": null,
      "outputs": []
    },
    {
      "cell_type": "code",
      "metadata": {
        "id": "RtxG0xwUn7GI"
      },
      "source": [
        "file = pd.read_csv('{}/ionosphere.data'.format(os.getcwd()),header = None)"
      ],
      "id": "RtxG0xwUn7GI",
      "execution_count": null,
      "outputs": []
    },
    {
      "cell_type": "code",
      "metadata": {
        "id": "aquatic-filling"
      },
      "source": [
        "import numpy as np\n",
        "\n",
        "data_set = file.values\n",
        "for i in range(len(data_set)):\n",
        "    data_set[i,-1] = 1.0 if data_set[i,-1] == 'b' else -1.0\n",
        "data_set = np.array(list(data_set[:,:]), dtype=np.double)\n",
        "\n",
        "from sklearn.model_selection import train_test_split\n",
        "\n",
        "X_train, X_test, y_train, y_test = train_test_split(data_set[:,:-1],data_set[:,-1],train_size = 0.8)\n"
      ],
      "id": "aquatic-filling",
      "execution_count": null,
      "outputs": []
    },
    {
      "cell_type": "code",
      "metadata": {
        "id": "local-pleasure"
      },
      "source": [
        "def LinearSVM(X,y,C = 1.0, learning_rate = 0.0001, epochs = 5000):\n",
        "    w = np.random.rand(X.shape[1])\n",
        "    b = 0\n",
        "    loss = []\n",
        "    for _ in range(epochs):\n",
        "        margin = (np.dot(X,w)+b)*y\n",
        "        misclassified = np.where(margin < 1)[0]\n",
        "        \n",
        "        dw = w - C*np.dot(y[misclassified],X[misclassified])\n",
        "        w = w - learning_rate*dw\n",
        "        \n",
        "        db = - C*sum(y[misclassified])\n",
        "        b = b - learning_rate*db\n",
        "        \n",
        "        ls = (1/2)*np.dot(w,w) + C*sum(max(0,1-m) for m in margin)\n",
        "        loss.append(ls)\n",
        "    \n",
        "    support_vectors = np.where((np.dot(X,w)+b)*y <=1)[0]\n",
        "    print(f'{len(support_vectors)} support vectors out of {len(X)} points')\n",
        "    plt.plot([x for x in range(1,epochs+1)],loss, color = 'red')\n",
        "    plt.xlabel('Epoch'); plt.ylabel('Loss');\n",
        "    plt.show()\n",
        "    return w,b"
      ],
      "id": "local-pleasure",
      "execution_count": null,
      "outputs": []
    },
    {
      "cell_type": "code",
      "metadata": {
        "colab": {
          "base_uri": "https://localhost:8080/",
          "height": 314
        },
        "id": "senior-logistics",
        "outputId": "49579a8a-ca5d-41a1-c8c0-20bacda22c32"
      },
      "source": [
        "w,b = LinearSVM(X_train,y_train, C = 0.8, learning_rate = 0.001, epochs = 1000)\n",
        "y_pred = []\n",
        "for x in X_test:\n",
        "    y_pred.append(np.sign(np.dot(w,x)+b))\n",
        "    \n",
        "from sklearn.metrics import accuracy_score\n",
        "\n",
        "print(f'Testing Set Accuracy: {accuracy_score(y_test,y_pred)*100} %')"
      ],
      "id": "senior-logistics",
      "execution_count": null,
      "outputs": [
        {
          "output_type": "stream",
          "text": [
            "73 support vectors out of 280 points\n"
          ],
          "name": "stdout"
        },
        {
          "output_type": "display_data",
          "data": {
            "image/png": "[encoded data removed]",
            "text/plain": [
              "<Figure size 432x288 with 1 Axes>"
            ]
          },
          "metadata": {
            "tags": [],
            "needs_background": "light"
          }
        },
        {
          "output_type": "stream",
          "text": [
            "Testing Set Accuracy: 84.50704225352112 %\n"
          ],
          "name": "stdout"
        }
      ]
    },
    {
      "cell_type": "code",
      "metadata": {
        "id": "hHb7o769n7GL"
      },
      "source": [
        ""
      ],
      "id": "hHb7o769n7GL",
      "execution_count": null,
      "outputs": []
    }
  ]
}